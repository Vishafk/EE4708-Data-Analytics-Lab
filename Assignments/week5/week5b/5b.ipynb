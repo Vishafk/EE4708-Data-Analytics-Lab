{
 "cells": [
  {
   "cell_type": "markdown",
   "metadata": {
    "colab_type": "text",
    "id": "MMWp3bQP-bhU"
   },
   "source": [
    "# Lab 5 - Classification :  k-NN and Naive Bayes (using sklearn libraries)"
   ]
  },
  {
   "cell_type": "markdown",
   "metadata": {},
   "source": [
    "## k-NN"
   ]
  },
  {
   "cell_type": "markdown",
   "metadata": {},
   "source": [
    "Use **\"Pima Indians Diabetes Dataset from UCI Machine Learning Repository\"** for this question.It is a binary class dataset. Split the dataset into train(80%), validation(10%) and test sets(10%).\n",
    "\n",
    "Run k-Nearest neighbours for different k values. Choose your own subset of k (atleast 10) and choose the best value of k from this subset. In solving real-world problems, the values of k are chosen based on experience and hence it is a tunable hyperparameter. Select the k, using validation set, which returns the best accuracy score. Report accuracy score by performing k-NN on the test dataset using the chosen k value. "
   ]
  },
  {
   "cell_type": "code",
   "execution_count": 101,
   "metadata": {},
   "outputs": [],
   "source": [
    "#import required libraries\n",
    "from sklearn.datasets import load_digits\n",
    "import numpy as np\n",
    "import seaborn as sns\n",
    "from matplotlib import pyplot as plt\n",
    "from sklearn.neighbors import KNeighborsClassifier\n",
    "from sklearn.naive_bayes import GaussianNB,BernoulliNB\n",
    "from sklearn.metrics import f1_score,confusion_matrix\n",
    "from sklearn.model_selection import train_test_split\n",
    "import warnings\n",
    "warnings.filterwarnings(\"ignore\")\n",
    "import pandas as pd\n",
    "from tqdm import tqdm"
   ]
  },
  {
   "cell_type": "code",
   "execution_count": 102,
   "metadata": {},
   "outputs": [],
   "source": [
    "data = pd.read_csv('diabetes.csv')\n",
    "data = data.to_numpy()\n",
    "X = data[:,0:-1]\n",
    "y = data[:,-1]"
   ]
  },
  {
   "cell_type": "code",
   "execution_count": 103,
   "metadata": {},
   "outputs": [],
   "source": [
    "np.random.seed(0)\n",
    "X_train, X_, y_train, y_ = train_test_split(X, y, test_size= 0.2, random_state=42)\n",
    "X_val, X_test, y_val, y_test = train_test_split(X_,y_,test_size = 0.5,random_state=42)\n",
    "y_val = y_val[:,np.newaxis]\n",
    "y_test = y_test[:,np.newaxis]"
   ]
  },
  {
   "cell_type": "code",
   "execution_count": 104,
   "metadata": {},
   "outputs": [
    {
     "name": "stderr",
     "output_type": "stream",
     "text": [
      "100%|██████████| 10/10 [00:00<00:00, 117.14it/s]\n"
     ]
    }
   ],
   "source": [
    "K_list = [3,7,11,15,19,23,27,31,35,39]\n",
    "score_list = []\n",
    "for k in tqdm(range(len(K_list))):\n",
    "    neigh = KNeighborsClassifier(n_neighbors=K_list[k])\n",
    "    neigh.fit(X_train, y_train)\n",
    "    y_pred = neigh.predict(X_val)\n",
    "    y_pred = y_pred[:,np.newaxis]\n",
    "    score = float(sum(y_pred == y_val))/ float(len(y_val))\n",
    "    score_list.append(score)"
   ]
  },
  {
   "cell_type": "code",
   "execution_count": 105,
   "metadata": {},
   "outputs": [
    {
     "name": "stdout",
     "output_type": "stream",
     "text": [
      "Best val accuracy: 72.72727272727273\n",
      "Best K: 11\n"
     ]
    }
   ],
   "source": [
    "print(\"Best val accuracy:\",np.max(score)*100)\n",
    "print(\"Best K:\",K_list[np.argmax(score_list)])"
   ]
  },
  {
   "cell_type": "code",
   "execution_count": 106,
   "metadata": {},
   "outputs": [
    {
     "name": "stdout",
     "output_type": "stream",
     "text": [
      "Test set accuracy for K=11: 0.7012987012987013\n"
     ]
    }
   ],
   "source": [
    "###Test set accuracy\n",
    "neigh = KNeighborsClassifier(n_neighbors=11)\n",
    "neigh.fit(X_train, y_train)\n",
    "y_pred = neigh.predict(X_test)\n",
    "y_pred = y_pred[:,np.newaxis]\n",
    "score = float(sum(y_pred == y_test))/ float(len(y_test))\n",
    "print(\"Test set accuracy for K=11:\",score)"
   ]
  },
  {
   "cell_type": "markdown",
   "metadata": {},
   "source": [
    "With increasing k, score increase, but dips after reaching a maxima "
   ]
  },
  {
   "cell_type": "markdown",
   "metadata": {},
   "source": [
    "## Naive Bayes"
   ]
  },
  {
   "cell_type": "markdown",
   "metadata": {},
   "source": [
    "Use **\"Optical recognition of handwritten digits dataset\"** for this question. ** Download dataset from sklearn**. The dataset has 10 classes and 64 attributes (8x8 images). Visualise images from the dataset. Perform a train test split in the ratio 4:1. \n",
    "\n",
    "Naive Bayes - perform multiclass classification to classify the dataset into one of the ten classes. Experiment with the priors (Gaussian and Bernoulli) and report the best prior. Report the accuracies in terms of F1 scores and the confusion matrix (use sklearn functions for this too).\n",
    "\n"
   ]
  },
  {
   "cell_type": "code",
   "execution_count": 19,
   "metadata": {},
   "outputs": [
    {
     "data": {
      "text/plain": [
       "<matplotlib.image.AxesImage at 0x7f08e17d45b0>"
      ]
     },
     "execution_count": 19,
     "metadata": {},
     "output_type": "execute_result"
    },
    {
     "data": {
      "image/png": "[encoded data removed]",
      "text/plain": [
       "<Figure size 432x288 with 1 Axes>"
      ]
     },
     "metadata": {
      "needs_background": "light"
     },
     "output_type": "display_data"
    }
   ],
   "source": [
    "# Code here\n",
    "np.random.seed(10)\n",
    "digits = load_digits()\n",
    "X = np.resize(digits.images,(len(digits.images),64))\n",
    "Y = digits.target\n",
    "X_train, X_test, y_train, y_test = train_test_split(X, Y, test_size=0.2, random_state=42)\n",
    "plt.gray()\n",
    "plt.title(\"Image of {}\".format(digits.target[5]))\n",
    "plt.imshow(digits.images[5])"
   ]
  },
  {
   "cell_type": "code",
   "execution_count": 22,
   "metadata": {},
   "outputs": [
    {
     "name": "stdout",
     "output_type": "stream",
     "text": [
      "F1 score for GaussianNB()\n",
      "0.8489770318561581\n",
      "Confusion matrix for GaussianNB()\n",
      "[[31  0  0  0  0  1  0  1  0  0]\n",
      " [ 0 24  0  0  0  0  0  0  3  1]\n",
      " [ 0  2 20  0  0  0  1  0 10  0]\n",
      " [ 0  0  1 29  0  1  0  0  3  0]\n",
      " [ 0  0  0  0 38  0  1  7  0  0]\n",
      " [ 0  0  0  1  0 44  1  1  0  0]\n",
      " [ 0  0  0  0  1  0 34  0  0  0]\n",
      " [ 0  0  0  0  0  1  0 33  0  0]\n",
      " [ 0  2  0  0  0  0  0  2 26  0]\n",
      " [ 0  1  1  2  0  2  0  4  4 26]]\n",
      "F1 score for BernoulliNB()\n",
      "0.8624817234502353\n",
      "Confusion matrix for BernoulliNB()\n",
      "[[31  0  0  0  2  0  0  0  0  0]\n",
      " [ 0 18  4  0  0  0  0  0  4  2]\n",
      " [ 0  1 29  2  0  0  0  0  1  0]\n",
      " [ 0  0  2 29  0  0  0  0  2  1]\n",
      " [ 0  0  0  0 45  0  0  1  0  0]\n",
      " [ 1  0  0  2  0 36  2  0  0  6]\n",
      " [ 0  0  0  0  1  0 34  0  0  0]\n",
      " [ 0  0  0  0  0  0  0 34  0  0]\n",
      " [ 0  3  1  0  0  0  0  0 24  2]\n",
      " [ 0  1  0  1  2  1  0  3  1 31]]\n"
     ]
    }
   ],
   "source": [
    "prior_list = [GaussianNB(),BernoulliNB()]\n",
    "\n",
    "for prior in prior_list:\n",
    "    #Prior\n",
    "    model = prior.fit(X_train,y_train)\n",
    "    #testing accuracies\n",
    "    y_pred = model.predict(X_test)\n",
    "    #F1 score\n",
    "    f1 = f1_score(y_test,y_pred,average=\"weighted\")\n",
    "    print(\"F1 score for {}\\n{}\".format(str(prior),f1))\n",
    "    #Confusion matrix\n",
    "    con_mat = confusion_matrix(y_test,y_pred)\n",
    "    print(\"Confusion matrix for {}\\n{}\".format(str(prior),con_mat))"
   ]
  },
  {
   "cell_type": "markdown",
   "metadata": {},
   "source": [
    "Based on the F1 scores and confusion matrix we can say that BernoulliNB is better in this case"
   ]
  },
  {
   "cell_type": "markdown",
   "metadata": {
    "colab_type": "text",
    "id": "oli7OP9XN4ZF"
   },
   "source": [
    "Summarize your findings and results here"
   ]
  }
 ],
 "metadata": {
  "colab": {
   "collapsed_sections": [],
   "name": "Lab5_DataAnalytics.ipynb",
   "provenance": [],
   "version": "0.3.2"
  },
  "kernelspec": {
   "display_name": "Python 3",
   "language": "python",
   "name": "python3"
  },
  "language_info": {
   "codemirror_mode": {
    "name": "ipython",
    "version": 3
   },
   "file_extension": ".py",
   "mimetype": "text/x-python",
   "name": "python",
   "nbconvert_exporter": "python",
   "pygments_lexer": "ipython3",
   "version": "3.8.2"
  },
  "toc": {
   "nav_menu": {},
   "number_sections": true,
   "sideBar": true,
   "skip_h1_title": false,
   "title_cell": "Table of Contents",
   "title_sidebar": "Contents",
   "toc_cell": false,
   "toc_position": {},
   "toc_section_display": true,
   "toc_window_display": false
  }
 },
 "nbformat": 4,
 "nbformat_minor": 1
}
