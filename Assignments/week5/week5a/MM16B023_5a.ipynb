{
 "cells": [
  {
   "cell_type": "markdown",
   "metadata": {},
   "source": [
    "#  Classification : Nearest Neighbors and Naive Bayes "
   ]
  },
  {
   "cell_type": "markdown",
   "metadata": {},
   "source": [
    "## Classification using Nearest Neighbors"
   ]
  },
  {
   "cell_type": "markdown",
   "metadata": {},
   "source": [
    "(a) Perform k-Nearest neighbours on the given dataset($X_{knn}$ and $y_{knn}$: where $X_{knn}$ stores feature vectors representing the movies and  $y_{knn}$ stores the 0-1 labelling for each movie) for binary classification of movies, for classifiying whether a given movie is a comedy(label 1) or not a comedy(label 0) . Split the dataset into train(80%), validation(10%) and test sets(10%).Run k-Nearest neighbours for different k values (1,3,7,15,31,63). Select the k, using validation set, which returns the best accuracy score. \n",
    "\n",
    "(i)  Report all the validation accuracies for all the values of k. \n",
    "<br>(ii) Report accuracy score by performing k-NN on the test dataset using the best chosen k value. "
   ]
  },
  {
   "cell_type": "code",
   "execution_count": 70,
   "metadata": {},
   "outputs": [],
   "source": [
    "#Import required packages\n",
    "import numpy as np\n",
    "import numpy as np\n",
    "import matplotlib.pyplot as plt\n",
    "import seaborn as sns\n",
    "import warnings\n",
    "import pandas as pd\n",
    "warnings.filterwarnings('ignore')\n",
    "from sklearn.model_selection import train_test_split\n",
    "import matplotlib\n",
    "from scipy import stats\n",
    "from tqdm import tqdm"
   ]
  },
  {
   "cell_type": "code",
   "execution_count": 3,
   "metadata": {},
   "outputs": [],
   "source": [
    "## write your code here.\n",
    "X = np.loadtxt('X_knn.csv')\n",
    "y = np.loadtxt('y_knn.csv')"
   ]
  },
  {
   "cell_type": "code",
   "execution_count": 131,
   "metadata": {},
   "outputs": [],
   "source": [
    "##Splitting data set\n",
    "X_train, X_, y_train, y_ = train_test_split(X, y, test_size= 0.2, random_state=42)\n",
    "X_val, X_test, y_val, y_test = train_test_split(X_,y_,test_size = 0.5,random_state=42)\n",
    "y_val = y_val[:,np.newaxis]\n",
    "y_test = y_test[:,np.newaxis]"
   ]
  },
  {
   "cell_type": "code",
   "execution_count": 127,
   "metadata": {},
   "outputs": [
    {
     "name": "stderr",
     "output_type": "stream",
     "text": [
      " 17%|█▋        | 1/6 [00:30<02:33, 30.75s/it]"
     ]
    },
    {
     "name": "stdout",
     "output_type": "stream",
     "text": [
      "Validation score K = 1 : 84.89999999999999\n"
     ]
    },
    {
     "name": "stderr",
     "output_type": "stream",
     "text": [
      "\r",
      " 33%|███▎      | 2/6 [01:02<02:03, 30.90s/it]"
     ]
    },
    {
     "name": "stdout",
     "output_type": "stream",
     "text": [
      "Validation score K = 3 : 84.7\n"
     ]
    },
    {
     "name": "stderr",
     "output_type": "stream",
     "text": [
      "\r",
      " 50%|█████     | 3/6 [01:37<01:37, 32.34s/it]"
     ]
    },
    {
     "name": "stdout",
     "output_type": "stream",
     "text": [
      "Validation score K = 7 : 84.8\n"
     ]
    },
    {
     "name": "stderr",
     "output_type": "stream",
     "text": [
      "\r",
      " 67%|██████▋   | 4/6 [02:13<01:06, 33.27s/it]"
     ]
    },
    {
     "name": "stdout",
     "output_type": "stream",
     "text": [
      "Validation score K = 15 : 85.9\n"
     ]
    },
    {
     "name": "stderr",
     "output_type": "stream",
     "text": [
      "\r",
      " 83%|████████▎ | 5/6 [02:44<00:32, 32.73s/it]"
     ]
    },
    {
     "name": "stdout",
     "output_type": "stream",
     "text": [
      "Validation score K = 31 : 85.6\n"
     ]
    },
    {
     "name": "stderr",
     "output_type": "stream",
     "text": [
      "100%|██████████| 6/6 [03:16<00:00, 32.71s/it]"
     ]
    },
    {
     "name": "stdout",
     "output_type": "stream",
     "text": [
      "Validation score K = 63 : 84.8\n"
     ]
    },
    {
     "name": "stderr",
     "output_type": "stream",
     "text": [
      "\n"
     ]
    }
   ],
   "source": [
    "def euclidian_distance(a, b):\n",
    "    return np.sqrt(np.sum((a - b)**2, axis=1))\n",
    "\n",
    "def kneighbors(X_val, n_neighbors):\n",
    "\n",
    "    dist = []\n",
    "    neigh_ind = []\n",
    "\n",
    "    point_dist = [euclidian_distance(x_val, X_train) for x_val in X_val]\n",
    "\n",
    "    for row in point_dist:\n",
    "        enum_neigh = enumerate(row)\n",
    "        sorted_neigh = sorted(enum_neigh,\n",
    "                                  key=lambda x: x[1])[:n_neighbors]\n",
    "\n",
    "        ind_list = [tup[0] for tup in sorted_neigh]\n",
    "        dist_list = [tup[1] for tup in sorted_neigh]\n",
    "\n",
    "        dist.append(dist_list)\n",
    "        neigh_ind.append(ind_list)\n",
    "\n",
    "    return np.array(neigh_ind)\n",
    "\n",
    "\n",
    "K = [1,3,7,15,31,63]\n",
    "for k in tqdm(range(len(K))):\n",
    "    neighbour = kneighbors(X_val,K[k])\n",
    "    y_close = y_train[neighbour]\n",
    "    y_pred = np.array(stats.mode(y_close,axis = 1))[0]\n",
    "    score = float(sum(y_pred == y_val))/ float(len(y_val))\n",
    "    print(\"Validation score K =\",K[k],\":\",score*100)"
   ]
  },
  {
   "cell_type": "markdown",
   "metadata": {},
   "source": [
    "K=15 performs best"
   ]
  },
  {
   "cell_type": "code",
   "execution_count": 132,
   "metadata": {},
   "outputs": [
    {
     "name": "stdout",
     "output_type": "stream",
     "text": [
      "Test set score K = 15 : 86.9\n"
     ]
    }
   ],
   "source": [
    "###Test set accuracy\n",
    "neighbour = kneighbors(X_test,15)\n",
    "y_close = y_train[neighbour]\n",
    "y_pred = np.array(stats.mode(y_close,axis = 1))[0]\n",
    "score = float(sum(y_pred == y_test))/ float(len(y_test))\n",
    "print(\"Test set score K =\",15,\":\",score*100)"
   ]
  },
  {
   "cell_type": "markdown",
   "metadata": {},
   "source": [
    "(b) State why using an even value of k in k-NN should not be chosen"
   ]
  },
  {
   "cell_type": "markdown",
   "metadata": {},
   "source": [
    "K is chosen odd to avoid ties in choosing the classes"
   ]
  },
  {
   "cell_type": "markdown",
   "metadata": {},
   "source": [
    "## Learning Naive Bayes' classifier  "
   ]
  },
  {
   "cell_type": "markdown",
   "metadata": {},
   "source": [
    "### From Continuous Distribution of data"
   ]
  },
  {
   "cell_type": "markdown",
   "metadata": {},
   "source": [
    "Here, the distribution of the data( $X$ represents the datapoints and $Y$ represents the 0-1 binary-class label; where 0 being the negative class and 1 being the positive class) is already known.\n",
    "<br>Consider the following one-dimensional(1-D) Gaussian distributions where means and variances are unknown. You need to estimate means($\\mu_-$: for negative class and  $\\mu_+$: for positive class) and variances ($\\sigma^{2}_{-}$: for negative class and $\\sigma^{2}_+$: for positive class) from the given data : \n",
    "<br> (1) Assume $X|Y_{Y=0} \\sim \\mathcal{N}(\\mu_- , \\sigma^{2}_-)$ \n",
    "<br>(2) Assume $X|Y_{Y=1} \\sim \\mathcal{N}(\\mu_+ , \\sigma^{2}_+)$\n"
   ]
  },
  {
   "cell_type": "markdown",
   "metadata": {},
   "source": [
    "*Generating artificial datasets in the next cell *"
   ]
  },
  {
   "cell_type": "code",
   "execution_count": 240,
   "metadata": {},
   "outputs": [],
   "source": [
    "## This cell is for generating datasets. Students should not change anything in this cell. \n",
    "## You can compare your mean and variance estimates by the actual ones used to generate these datasets\n",
    "\n",
    "import numpy as np\n",
    "X_pos = np.random.randn(1000,1)+np.array([[2.]])\n",
    "X_neg = np.random.randn(1000,1)+np.array([[4.]])\n",
    "X_train_pos = X_pos[:900]\n",
    "X_train_neg = X_neg[:900]\n",
    "X_test_pos = X_pos[900:]\n",
    "X_test_neg = X_neg[900:]\n",
    "X_train = np.concatenate((X_train_pos, X_train_neg), axis=0)\n",
    "X_test = np.concatenate((X_test_pos, X_test_neg), axis=0)\n",
    "Y_train = np.concatenate(( np.ones(900),np.zeros(900) ))\n",
    "Y_test = np.concatenate(( np.ones(100), np.zeros(100) ))\n",
    "Y_test = Y_test[:,np.newaxis]\n",
    "\n",
    "## X_train, X_test, Y_train, Y_test are your datasets to work with ####"
   ]
  },
  {
   "cell_type": "markdown",
   "metadata": {},
   "source": [
    "\n",
    "\n",
    "<br>**Instructions to follow for learning a Baeysian classifier:** *(Code the formulae for estimating the different parameters yourself)*\n",
    "<br> a)Utilize the training dataset to estimate the means($\\hat{\\mu_+}$,$\\hat{\\mu_-}$) and variances($\\hat{\\sigma^{2}_+}$, $\\hat{\\sigma^{2}_-}$) for both positive and negative classes  \n",
    "b)Estimate the prior probability: $P(Y=1)$  ⟶ which could be referred to as: $\\hat{a}$ \n",
    "<br>c)Estimate the classifier funtion/posterior probability:  $P(Y=1|X = x)$  ⟶ which could be referred to as $\\hat{\\eta(x)}$\n",
    "<br>d)Find out the threshold value($x^*$) for classification by equating the estimated classifier function($\\hat{\\eta(x)}$)  with threshold probability of 0.5\n",
    "<br>e)Classify the test dataset into the two classes using this threshold value($x^*$) and find out the **accuracy** of the prediction \n",
    "\n",
    "Return back:  $\\hat{\\mu_+}$, $\\hat{\\mu_-}$, $\\hat{\\sigma^{2}_+}$, $\\hat{\\sigma^{2}_-}$, $\\hat{a}$, $x^*$ and accuracy from the code written \n",
    "\n",
    "*Hint: $X|Y_{Y=0} \\sim \\mathcal{N}(\\mu_- , \\sigma^{2}_-)$ implies $P_{X|Y=0} = \\mathcal{N}(\\mu_- , \\sigma^{2}_-) $*\n"
   ]
  },
  {
   "cell_type": "code",
   "execution_count": 241,
   "metadata": {},
   "outputs": [
    {
     "name": "stdout",
     "output_type": "stream",
     "text": [
      "mu_pos: 1.93150541977847\n",
      "mu_neg 4.011580775217707\n",
      "var_pos: 0.9788711095557733\n",
      "var_neg: 0.9413264569474702\n",
      "a_hat: 0.5\n",
      "x_thresh: 2.9726882457635204\n",
      "Test set accuracy: 84.0\n"
     ]
    }
   ],
   "source": [
    "## write your code here.  \n",
    "np.random.seed(10)\n",
    "def fitNormal(x):\n",
    "    \"\"\"\n",
    "    PARAMETERS:\n",
    "    x : input 1D data\n",
    "    \n",
    "    RETURNS:\n",
    "    mu : mean of distribution\n",
    "    sig : standard deviation of distribution\n",
    "    \"\"\"\n",
    "    mu = np.mean(x)\n",
    "    var = np.var(x)\n",
    "    \n",
    "    return [mu, var]\n",
    "\n",
    "\n",
    "def find_threshold(mu_pos,var_pos,mu_neg,var_neg):\n",
    "    if var_pos == var_neg:\n",
    "        return (mu_pos + mu_neg)/2\n",
    "    else:\n",
    "        A = var_pos-var_neg\n",
    "        B = 2*((var_neg*mu_pos)-(var_pos*mu_neg))\n",
    "        C = var_pos*mu_neg**2-var_neg*mu_pos**2-var_pos*var_neg*np.log(var_pos/var_neg)\n",
    "        D = B**2-4*A*C\n",
    "        return ((-B-np.sqrt(D))/(2*A)) #-ve sign chosen to have positive soln\n",
    "        \n",
    "\n",
    "X_train_pos = X_train[Y_train==1]\n",
    "X_train_neg = X_train[Y_train==0]\n",
    "mu_pos, var_pos = fitNormal(X_train_pos)\n",
    "mu_neg, var_neg = fitNormal(X_train_neg)\n",
    "a = len(Y_train[Y_train==1])/len(Y_train)\n",
    "x_thresh = find_threshold(mu_pos,var_pos,mu_neg,var_neg)\n",
    "Y_pred = (X_test < x_thresh).astype(int)\n",
    "score = float(sum(Y_pred == Y_test))/ float(len(Y_test))\n",
    "print(\"mu_pos:\",mu_pos)\n",
    "print(\"mu_neg\",mu_neg)\n",
    "print(\"var_pos:\",var_pos)\n",
    "print(\"var_neg:\",var_neg)\n",
    "print(\"a_hat:\",a)\n",
    "print(\"x_thresh:\",x_thresh)\n",
    "print(\"Test set accuracy:\",score*100)"
   ]
  },
  {
   "cell_type": "markdown",
   "metadata": {},
   "source": [
    "### From Discrete distribution of data"
   ]
  },
  {
   "cell_type": "markdown",
   "metadata": {},
   "source": [
    "Unlike the first exercise for learning the Naive Bayes' classifier where we dealt with continuous distribution of data, here you need to work with discrete data, which means finding Probability Mass Distribution(PMF). \n",
    "\n",
    "Age  | Income | Status  | Buy\n",
    "-----|--------|-------- |----\n",
    "<=20 |  low   | students| yes\n",
    "<=20 |  high  | students| yes\n",
    "<=20 | medium | students| no\n",
    "<=20 | medium | married | no\n",
    "<=20 |  high  | married | yes\n",
    "21-30|  low   | married | yes\n",
    "21-30|  low   | married | no \n",
    "21-30| medium | students| no\n",
    "21-30|  high  | students| yes\n",
    " >30 |  high  | married | no\n",
    " >30 |  high  | married | yes\n",
    " >30 | medium | married | yes\n",
    " >30 | medium | married | no\n",
    " >30 | medium | students| no\n",
    " \n",
    "Consider the train dataset above. Take any random datapoint ($X_{i}$) where $X_{i} = (X_{i,1} = Age,X_{i,2} = Income,X_{i,3} = Status)$ and its corresponding label \n",
    "\n",
    "($Y_{i} = Buy$). A \"yes\" in Buy corresponds to label-1 and a \"no\" in Buy corresponds to label-0.\n",
    "\n",
    "<br>**Instructions to follow for learning a Baeysian classifier:** *(Code the formulae for estimating the different parameters yourself)*\n",
    "<br> a)Estimate the prior probability: $P(Y=1)$  ⟶ which could be referred to as: $\\hat{a}$   \n",
    "b)Estimate the likelihood for each feature:  $P(X_{i,j} = x |Y = y_{i})$, where $ i$=datapoint counter, $j \\in \\{1,2,3\\}$ and $y_{i} \\in \\{0,1\\}$ \n",
    "<br>c)Estimate the total likelihood: $P(X_{i} = x |Y = y_{i})$  \n",
    "d)Calculate the posterior probability: $P(Y = 1|X_{i} = x_{test} )$ = $p_{test}$ where $x_{test} = (Age = 21-30, Income= medium, Status = married)$\n",
    "\n",
    "\n",
    "Return back: $\\hat{a}$, total likelihood and $p_{test}$ \n"
   ]
  },
  {
   "cell_type": "code",
   "execution_count": 292,
   "metadata": {},
   "outputs": [],
   "source": [
    "## write your code here.\n",
    "### Data frame defn\n",
    "c1 = ['<=20','<=20','<=20','<=20','<=20','21-30','21-30','21-30','21-30','>30','>30','>30','>30','>30']\n",
    "c2 = ['low','high','medium','medium','high','low','low','medium','high','high','high','medium','medium','medium']\n",
    "c3 = ['students','students','students','married','married','married','married','students','students','married','married','married','married','students']\n",
    "c4 = ['yes','yes','no','no','yes','yes','no','no','yes','no','yes','yes','no','no']\n",
    "c4 =[1,1,0,0,1,1,0,0,1,0,1,1,0,0]\n",
    "df = pd.DataFrame({'Age':c1,'Income':c2,'Status':c3,'Buy':c4})"
   ]
  },
  {
   "cell_type": "code",
   "execution_count": 294,
   "metadata": {},
   "outputs": [
    {
     "data": {
      "text/html": [
       "<div>\n",
       "<style scoped>\n",
       "    .dataframe tbody tr th:only-of-type {\n",
       "        vertical-align: middle;\n",
       "    }\n",
       "\n",
       "    .dataframe tbody tr th {\n",
       "        vertical-align: top;\n",
       "    }\n",
       "\n",
       "    .dataframe thead th {\n",
       "        text-align: right;\n",
       "    }\n",
       "</style>\n",
       "<table border=\"1\" class=\"dataframe\">\n",
       "  <thead>\n",
       "    <tr style=\"text-align: right;\">\n",
       "      <th></th>\n",
       "      <th>Age</th>\n",
       "      <th>Income</th>\n",
       "      <th>Status</th>\n",
       "      <th>Buy</th>\n",
       "    </tr>\n",
       "  </thead>\n",
       "  <tbody>\n",
       "    <tr>\n",
       "      <th>0</th>\n",
       "      <td>&lt;=20</td>\n",
       "      <td>low</td>\n",
       "      <td>students</td>\n",
       "      <td>1</td>\n",
       "    </tr>\n",
       "    <tr>\n",
       "      <th>1</th>\n",
       "      <td>&lt;=20</td>\n",
       "      <td>high</td>\n",
       "      <td>students</td>\n",
       "      <td>1</td>\n",
       "    </tr>\n",
       "    <tr>\n",
       "      <th>2</th>\n",
       "      <td>&lt;=20</td>\n",
       "      <td>medium</td>\n",
       "      <td>students</td>\n",
       "      <td>0</td>\n",
       "    </tr>\n",
       "    <tr>\n",
       "      <th>3</th>\n",
       "      <td>&lt;=20</td>\n",
       "      <td>medium</td>\n",
       "      <td>married</td>\n",
       "      <td>0</td>\n",
       "    </tr>\n",
       "    <tr>\n",
       "      <th>4</th>\n",
       "      <td>&lt;=20</td>\n",
       "      <td>high</td>\n",
       "      <td>married</td>\n",
       "      <td>1</td>\n",
       "    </tr>\n",
       "    <tr>\n",
       "      <th>5</th>\n",
       "      <td>21-30</td>\n",
       "      <td>low</td>\n",
       "      <td>married</td>\n",
       "      <td>1</td>\n",
       "    </tr>\n",
       "    <tr>\n",
       "      <th>6</th>\n",
       "      <td>21-30</td>\n",
       "      <td>low</td>\n",
       "      <td>married</td>\n",
       "      <td>0</td>\n",
       "    </tr>\n",
       "    <tr>\n",
       "      <th>7</th>\n",
       "      <td>21-30</td>\n",
       "      <td>medium</td>\n",
       "      <td>students</td>\n",
       "      <td>0</td>\n",
       "    </tr>\n",
       "    <tr>\n",
       "      <th>8</th>\n",
       "      <td>21-30</td>\n",
       "      <td>high</td>\n",
       "      <td>students</td>\n",
       "      <td>1</td>\n",
       "    </tr>\n",
       "    <tr>\n",
       "      <th>9</th>\n",
       "      <td>&gt;30</td>\n",
       "      <td>high</td>\n",
       "      <td>married</td>\n",
       "      <td>0</td>\n",
       "    </tr>\n",
       "    <tr>\n",
       "      <th>10</th>\n",
       "      <td>&gt;30</td>\n",
       "      <td>high</td>\n",
       "      <td>married</td>\n",
       "      <td>1</td>\n",
       "    </tr>\n",
       "    <tr>\n",
       "      <th>11</th>\n",
       "      <td>&gt;30</td>\n",
       "      <td>medium</td>\n",
       "      <td>married</td>\n",
       "      <td>1</td>\n",
       "    </tr>\n",
       "    <tr>\n",
       "      <th>12</th>\n",
       "      <td>&gt;30</td>\n",
       "      <td>medium</td>\n",
       "      <td>married</td>\n",
       "      <td>0</td>\n",
       "    </tr>\n",
       "    <tr>\n",
       "      <th>13</th>\n",
       "      <td>&gt;30</td>\n",
       "      <td>medium</td>\n",
       "      <td>students</td>\n",
       "      <td>0</td>\n",
       "    </tr>\n",
       "  </tbody>\n",
       "</table>\n",
       "</div>"
      ],
      "text/plain": [
       "      Age  Income    Status  Buy\n",
       "0    <=20     low  students    1\n",
       "1    <=20    high  students    1\n",
       "2    <=20  medium  students    0\n",
       "3    <=20  medium   married    0\n",
       "4    <=20    high   married    1\n",
       "5   21-30     low   married    1\n",
       "6   21-30     low   married    0\n",
       "7   21-30  medium  students    0\n",
       "8   21-30    high  students    1\n",
       "9     >30    high   married    0\n",
       "10    >30    high   married    1\n",
       "11    >30  medium   married    1\n",
       "12    >30  medium   married    0\n",
       "13    >30  medium  students    0"
      ]
     },
     "execution_count": 294,
     "metadata": {},
     "output_type": "execute_result"
    }
   ],
   "source": [
    "df"
   ]
  },
  {
   "cell_type": "code",
   "execution_count": 329,
   "metadata": {},
   "outputs": [],
   "source": [
    "a_hat = np.sum((df['Buy'] == 1))/len(df)\n",
    "likelihood = []\n",
    "X_test = ['21-30','medium','married']\n",
    "df2 = df[df['Buy'] == 1]\n",
    "prob1 = dict(df2['Age'].value_counts()/len(df2))\n",
    "prob2 = dict(df2['Income'].value_counts()/len(df2))\n",
    "prob3 = dict(df2['Status'].value_counts()/len(df2))\n",
    "for i in range(len(c4)):\n",
    "    P1 = prob1[df.at[i,'Age']]\n",
    "    P2 = prob2[df.at[i,'Income']]\n",
    "    P3 = prob3[df.at[i,'Status']]\n",
    "    likelihood.append(P1*P2*P3"
   ]
  },
  {
   "cell_type": "code",
   "execution_count": 330,
   "metadata": {},
   "outputs": [
    {
     "data": {
      "text/plain": [
       "[0.05247813411078716,\n",
       " 0.10495626822157432,\n",
       " 0.02623906705539358,\n",
       " 0.034985422740524776,\n",
       " 0.1399416909620991,\n",
       " 0.0466472303206997,\n",
       " 0.0466472303206997,\n",
       " 0.017492711370262388,\n",
       " 0.06997084548104955,\n",
       " 0.0932944606413994,\n",
       " 0.0932944606413994,\n",
       " 0.02332361516034985,\n",
       " 0.02332361516034985,\n",
       " 0.017492711370262388]"
      ]
     },
     "execution_count": 330,
     "metadata": {},
     "output_type": "execute_result"
    }
   ],
   "source": [
    "likelihood"
   ]
  },
  {
   "cell_type": "code",
   "execution_count": 327,
   "metadata": {},
   "outputs": [
    {
     "data": {
      "text/plain": [
       "0.5"
      ]
     },
     "execution_count": 327,
     "metadata": {},
     "output_type": "execute_result"
    }
   ],
   "source": [
    "a_hat"
   ]
  },
  {
   "cell_type": "code",
   "execution_count": 336,
   "metadata": {},
   "outputs": [
    {
     "name": "stdout",
     "output_type": "stream",
     "text": [
      "0.011661807580174925\n"
     ]
    }
   ],
   "source": [
    "p_test = a_hat*prob1[X_test[0]]*prob2[X_test[1]]*prob3[X_test[2]]\n",
    "print(p_test)"
   ]
  }
 ],
 "metadata": {
  "kernelspec": {
   "display_name": "Python 3",
   "language": "python",
   "name": "python3"
  },
  "language_info": {
   "codemirror_mode": {
    "name": "ipython",
    "version": 3
   },
   "file_extension": ".py",
   "mimetype": "text/x-python",
   "name": "python",
   "nbconvert_exporter": "python",
   "pygments_lexer": "ipython3",
   "version": "3.8.2"
  },
  "toc": {
   "nav_menu": {},
   "number_sections": true,
   "sideBar": true,
   "skip_h1_title": false,
   "title_cell": "Table of Contents",
   "title_sidebar": "Contents",
   "toc_cell": false,
   "toc_position": {},
   "toc_section_display": true,
   "toc_window_display": false
  }
 },
 "nbformat": 4,
 "nbformat_minor": 2
}
