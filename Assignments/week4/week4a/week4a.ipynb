{
 "cells": [
  {
   "cell_type": "markdown",
   "metadata": {},
   "source": [
    "# Encoding (Label encoding and One-hot encoding)\n"
   ]
  },
  {
   "cell_type": "markdown",
   "metadata": {},
   "source": [
    "These are simple exercises useful for notebook 2"
   ]
  },
  {
   "cell_type": "code",
   "execution_count": 970,
   "metadata": {},
   "outputs": [],
   "source": [
    "###Import required libraries\n",
    "import pandas as pd\n",
    "import warnings\n",
    "warnings.filterwarnings(\"ignore\")\n",
    "from sklearn.preprocessing import PolynomialFeatures\n",
    "from sklearn import linear_model\n",
    "from sklearn.metrics import mean_squared_error\n",
    "from sklearn.linear_model import Ridge\n",
    "from sklearn.linear_model import Lasso"
   ]
  },
  {
   "cell_type": "markdown",
   "metadata": {},
   "source": [
    "Open 'grades.csv' and use appropriate encoding technique to convert to numerical data"
   ]
  },
  {
   "cell_type": "code",
   "execution_count": 37,
   "metadata": {},
   "outputs": [],
   "source": [
    "df = pd.read_csv(\"grades.csv\")\n",
    "grades_dict = {\"S\":10,\"A\":9,\"B\":8,\"C\":7,\"D\":6,\"E\":4,\"F\":0}"
   ]
  },
  {
   "cell_type": "code",
   "execution_count": 38,
   "metadata": {
    "tags": []
   },
   "outputs": [
    {
     "data": {
      "text/html": [
       "<div>\n",
       "<style scoped>\n",
       "    .dataframe tbody tr th:only-of-type {\n",
       "        vertical-align: middle;\n",
       "    }\n",
       "\n",
       "    .dataframe tbody tr th {\n",
       "        vertical-align: top;\n",
       "    }\n",
       "\n",
       "    .dataframe thead th {\n",
       "        text-align: right;\n",
       "    }\n",
       "</style>\n",
       "<table border=\"1\" class=\"dataframe\">\n",
       "  <thead>\n",
       "    <tr style=\"text-align: right;\">\n",
       "      <th></th>\n",
       "      <th>Name</th>\n",
       "      <th>Grades</th>\n",
       "    </tr>\n",
       "  </thead>\n",
       "  <tbody>\n",
       "    <tr>\n",
       "      <th>0</th>\n",
       "      <td>Nilesh</td>\n",
       "      <td>A</td>\n",
       "    </tr>\n",
       "    <tr>\n",
       "      <th>1</th>\n",
       "      <td>Jhon</td>\n",
       "      <td>S</td>\n",
       "    </tr>\n",
       "    <tr>\n",
       "      <th>2</th>\n",
       "      <td>James</td>\n",
       "      <td>C</td>\n",
       "    </tr>\n",
       "    <tr>\n",
       "      <th>3</th>\n",
       "      <td>Ravi</td>\n",
       "      <td>F</td>\n",
       "    </tr>\n",
       "    <tr>\n",
       "      <th>4</th>\n",
       "      <td>Sita</td>\n",
       "      <td>S</td>\n",
       "    </tr>\n",
       "    <tr>\n",
       "      <th>5</th>\n",
       "      <td>Raju</td>\n",
       "      <td>E</td>\n",
       "    </tr>\n",
       "    <tr>\n",
       "      <th>6</th>\n",
       "      <td>Praful</td>\n",
       "      <td>F</td>\n",
       "    </tr>\n",
       "    <tr>\n",
       "      <th>7</th>\n",
       "      <td>Ganga</td>\n",
       "      <td>B</td>\n",
       "    </tr>\n",
       "    <tr>\n",
       "      <th>8</th>\n",
       "      <td>Ram</td>\n",
       "      <td>A</td>\n",
       "    </tr>\n",
       "    <tr>\n",
       "      <th>9</th>\n",
       "      <td>Rahim</td>\n",
       "      <td>S</td>\n",
       "    </tr>\n",
       "    <tr>\n",
       "      <th>10</th>\n",
       "      <td>Julia</td>\n",
       "      <td>B</td>\n",
       "    </tr>\n",
       "  </tbody>\n",
       "</table>\n",
       "</div>"
      ],
      "text/plain": [
       "      Name Grades\n",
       "0   Nilesh      A\n",
       "1     Jhon      S\n",
       "2    James      C\n",
       "3     Ravi      F\n",
       "4     Sita      S\n",
       "5     Raju      E\n",
       "6   Praful      F\n",
       "7    Ganga      B\n",
       "8      Ram      A\n",
       "9    Rahim      S\n",
       "10   Julia      B"
      ]
     },
     "execution_count": 38,
     "metadata": {},
     "output_type": "execute_result"
    }
   ],
   "source": [
    "# write a function to do Label encoding\n",
    "def label_encoding(column):\n",
    "    Labeled_data = []\n",
    "    for elem in column:\n",
    "        Labeled_data.append(grades_dict[elem])\n",
    "    return Labeled_data\n",
    "df"
   ]
  },
  {
   "cell_type": "code",
   "execution_count": 39,
   "metadata": {},
   "outputs": [],
   "source": [
    "df['Grades'] = list(label_encoding(df['Grades']))"
   ]
  },
  {
   "cell_type": "code",
   "execution_count": 40,
   "metadata": {},
   "outputs": [
    {
     "data": {
      "text/html": [
       "<div>\n",
       "<style scoped>\n",
       "    .dataframe tbody tr th:only-of-type {\n",
       "        vertical-align: middle;\n",
       "    }\n",
       "\n",
       "    .dataframe tbody tr th {\n",
       "        vertical-align: top;\n",
       "    }\n",
       "\n",
       "    .dataframe thead th {\n",
       "        text-align: right;\n",
       "    }\n",
       "</style>\n",
       "<table border=\"1\" class=\"dataframe\">\n",
       "  <thead>\n",
       "    <tr style=\"text-align: right;\">\n",
       "      <th></th>\n",
       "      <th>Name</th>\n",
       "      <th>Grades</th>\n",
       "    </tr>\n",
       "  </thead>\n",
       "  <tbody>\n",
       "    <tr>\n",
       "      <th>0</th>\n",
       "      <td>Nilesh</td>\n",
       "      <td>9</td>\n",
       "    </tr>\n",
       "    <tr>\n",
       "      <th>1</th>\n",
       "      <td>Jhon</td>\n",
       "      <td>10</td>\n",
       "    </tr>\n",
       "    <tr>\n",
       "      <th>2</th>\n",
       "      <td>James</td>\n",
       "      <td>7</td>\n",
       "    </tr>\n",
       "    <tr>\n",
       "      <th>3</th>\n",
       "      <td>Ravi</td>\n",
       "      <td>0</td>\n",
       "    </tr>\n",
       "    <tr>\n",
       "      <th>4</th>\n",
       "      <td>Sita</td>\n",
       "      <td>10</td>\n",
       "    </tr>\n",
       "    <tr>\n",
       "      <th>5</th>\n",
       "      <td>Raju</td>\n",
       "      <td>4</td>\n",
       "    </tr>\n",
       "    <tr>\n",
       "      <th>6</th>\n",
       "      <td>Praful</td>\n",
       "      <td>0</td>\n",
       "    </tr>\n",
       "    <tr>\n",
       "      <th>7</th>\n",
       "      <td>Ganga</td>\n",
       "      <td>8</td>\n",
       "    </tr>\n",
       "    <tr>\n",
       "      <th>8</th>\n",
       "      <td>Ram</td>\n",
       "      <td>9</td>\n",
       "    </tr>\n",
       "    <tr>\n",
       "      <th>9</th>\n",
       "      <td>Rahim</td>\n",
       "      <td>10</td>\n",
       "    </tr>\n",
       "    <tr>\n",
       "      <th>10</th>\n",
       "      <td>Julia</td>\n",
       "      <td>8</td>\n",
       "    </tr>\n",
       "  </tbody>\n",
       "</table>\n",
       "</div>"
      ],
      "text/plain": [
       "      Name  Grades\n",
       "0   Nilesh       9\n",
       "1     Jhon      10\n",
       "2    James       7\n",
       "3     Ravi       0\n",
       "4     Sita      10\n",
       "5     Raju       4\n",
       "6   Praful       0\n",
       "7    Ganga       8\n",
       "8      Ram       9\n",
       "9    Rahim      10\n",
       "10   Julia       8"
      ]
     },
     "execution_count": 40,
     "metadata": {},
     "output_type": "execute_result"
    }
   ],
   "source": [
    "df"
   ]
  },
  {
   "cell_type": "markdown",
   "metadata": {},
   "source": [
    "Open 'colors.csv' and use appropriate encoding technique to convert to numerical data"
   ]
  },
  {
   "cell_type": "code",
   "execution_count": 47,
   "metadata": {},
   "outputs": [
    {
     "data": {
      "text/html": [
       "<div>\n",
       "<style scoped>\n",
       "    .dataframe tbody tr th:only-of-type {\n",
       "        vertical-align: middle;\n",
       "    }\n",
       "\n",
       "    .dataframe tbody tr th {\n",
       "        vertical-align: top;\n",
       "    }\n",
       "\n",
       "    .dataframe thead th {\n",
       "        text-align: right;\n",
       "    }\n",
       "</style>\n",
       "<table border=\"1\" class=\"dataframe\">\n",
       "  <thead>\n",
       "    <tr style=\"text-align: right;\">\n",
       "      <th></th>\n",
       "      <th>Objects</th>\n",
       "      <th>Color</th>\n",
       "    </tr>\n",
       "  </thead>\n",
       "  <tbody>\n",
       "    <tr>\n",
       "      <th>0</th>\n",
       "      <td>Leaves</td>\n",
       "      <td>Green</td>\n",
       "    </tr>\n",
       "    <tr>\n",
       "      <th>1</th>\n",
       "      <td>Blood</td>\n",
       "      <td>Red</td>\n",
       "    </tr>\n",
       "    <tr>\n",
       "      <th>2</th>\n",
       "      <td>Sea</td>\n",
       "      <td>Blue</td>\n",
       "    </tr>\n",
       "    <tr>\n",
       "      <th>3</th>\n",
       "      <td>Rose</td>\n",
       "      <td>Red</td>\n",
       "    </tr>\n",
       "    <tr>\n",
       "      <th>4</th>\n",
       "      <td>Sun flower</td>\n",
       "      <td>Yellow</td>\n",
       "    </tr>\n",
       "    <tr>\n",
       "      <th>5</th>\n",
       "      <td>Apple</td>\n",
       "      <td>Red</td>\n",
       "    </tr>\n",
       "    <tr>\n",
       "      <th>6</th>\n",
       "      <td>Mango</td>\n",
       "      <td>Yellow</td>\n",
       "    </tr>\n",
       "    <tr>\n",
       "      <th>7</th>\n",
       "      <td>Banana</td>\n",
       "      <td>Yellow</td>\n",
       "    </tr>\n",
       "  </tbody>\n",
       "</table>\n",
       "</div>"
      ],
      "text/plain": [
       "      Objects   Color\n",
       "0      Leaves   Green\n",
       "1       Blood     Red\n",
       "2         Sea    Blue\n",
       "3        Rose     Red\n",
       "4  Sun flower  Yellow\n",
       "5       Apple     Red\n",
       "6       Mango  Yellow\n",
       "7      Banana  Yellow"
      ]
     },
     "execution_count": 47,
     "metadata": {},
     "output_type": "execute_result"
    }
   ],
   "source": [
    "df = pd.read_csv(\"color.csv\")\n",
    "df"
   ]
  },
  {
   "cell_type": "markdown",
   "metadata": {},
   "source": [
    "Hint : you can achieve using pandas (no need for sklearn) check the documentation"
   ]
  },
  {
   "cell_type": "code",
   "execution_count": 48,
   "metadata": {},
   "outputs": [
    {
     "data": {
      "text/html": [
       "<div>\n",
       "<style scoped>\n",
       "    .dataframe tbody tr th:only-of-type {\n",
       "        vertical-align: middle;\n",
       "    }\n",
       "\n",
       "    .dataframe tbody tr th {\n",
       "        vertical-align: top;\n",
       "    }\n",
       "\n",
       "    .dataframe thead th {\n",
       "        text-align: right;\n",
       "    }\n",
       "</style>\n",
       "<table border=\"1\" class=\"dataframe\">\n",
       "  <thead>\n",
       "    <tr style=\"text-align: right;\">\n",
       "      <th></th>\n",
       "      <th>Objects</th>\n",
       "      <th>Color</th>\n",
       "      <th>Blue</th>\n",
       "      <th>Green</th>\n",
       "      <th>Red</th>\n",
       "      <th>Yellow</th>\n",
       "    </tr>\n",
       "  </thead>\n",
       "  <tbody>\n",
       "    <tr>\n",
       "      <th>0</th>\n",
       "      <td>Leaves</td>\n",
       "      <td>Green</td>\n",
       "      <td>0</td>\n",
       "      <td>1</td>\n",
       "      <td>0</td>\n",
       "      <td>0</td>\n",
       "    </tr>\n",
       "    <tr>\n",
       "      <th>1</th>\n",
       "      <td>Blood</td>\n",
       "      <td>Red</td>\n",
       "      <td>0</td>\n",
       "      <td>0</td>\n",
       "      <td>1</td>\n",
       "      <td>0</td>\n",
       "    </tr>\n",
       "    <tr>\n",
       "      <th>2</th>\n",
       "      <td>Sea</td>\n",
       "      <td>Blue</td>\n",
       "      <td>1</td>\n",
       "      <td>0</td>\n",
       "      <td>0</td>\n",
       "      <td>0</td>\n",
       "    </tr>\n",
       "    <tr>\n",
       "      <th>3</th>\n",
       "      <td>Rose</td>\n",
       "      <td>Red</td>\n",
       "      <td>0</td>\n",
       "      <td>0</td>\n",
       "      <td>1</td>\n",
       "      <td>0</td>\n",
       "    </tr>\n",
       "    <tr>\n",
       "      <th>4</th>\n",
       "      <td>Sun flower</td>\n",
       "      <td>Yellow</td>\n",
       "      <td>0</td>\n",
       "      <td>0</td>\n",
       "      <td>0</td>\n",
       "      <td>1</td>\n",
       "    </tr>\n",
       "    <tr>\n",
       "      <th>5</th>\n",
       "      <td>Apple</td>\n",
       "      <td>Red</td>\n",
       "      <td>0</td>\n",
       "      <td>0</td>\n",
       "      <td>1</td>\n",
       "      <td>0</td>\n",
       "    </tr>\n",
       "    <tr>\n",
       "      <th>6</th>\n",
       "      <td>Mango</td>\n",
       "      <td>Yellow</td>\n",
       "      <td>0</td>\n",
       "      <td>0</td>\n",
       "      <td>0</td>\n",
       "      <td>1</td>\n",
       "    </tr>\n",
       "    <tr>\n",
       "      <th>7</th>\n",
       "      <td>Banana</td>\n",
       "      <td>Yellow</td>\n",
       "      <td>0</td>\n",
       "      <td>0</td>\n",
       "      <td>0</td>\n",
       "      <td>1</td>\n",
       "    </tr>\n",
       "  </tbody>\n",
       "</table>\n",
       "</div>"
      ],
      "text/plain": [
       "      Objects   Color  Blue  Green  Red  Yellow\n",
       "0      Leaves   Green     0      1    0       0\n",
       "1       Blood     Red     0      0    1       0\n",
       "2         Sea    Blue     1      0    0       0\n",
       "3        Rose     Red     0      0    1       0\n",
       "4  Sun flower  Yellow     0      0    0       1\n",
       "5       Apple     Red     0      0    1       0\n",
       "6       Mango  Yellow     0      0    0       1\n",
       "7      Banana  Yellow     0      0    0       1"
      ]
     },
     "execution_count": 48,
     "metadata": {},
     "output_type": "execute_result"
    }
   ],
   "source": [
    "# Answer\n",
    "one_hot_vec = pd.get_dummies(df['Color'])\n",
    "df[one_hot_vec.columns] = one_hot_vec\n",
    "df"
   ]
  },
  {
   "cell_type": "markdown",
   "metadata": {},
   "source": [
    "Answer the following for both the data \n",
    "\n",
    "- What are the categories in the data?\n",
    "- what is the relationship between different categories in the grades column?\n",
    "- Which encoding to be used Label encoding or one-hot encoding?\n",
    "\n",
    "\n",
    "Note: If there is need of any assumption on grades assume grades follow pattern as it is in IIT M\n"
   ]
  },
  {
   "cell_type": "markdown",
   "metadata": {},
   "source": [
    "1. grades.csv : {S,A,B,C,D,E,F}    color.csv:{Blue,Gree,Red,Yellow}\n",
    "2. grades.csv : S>A>B>C>D>E>F      color.csv : No relationship\n",
    "3. If relationship is there then label encoding would be suitable, if not then one-hot encoding"
   ]
  },
  {
   "cell_type": "markdown",
   "metadata": {},
   "source": [
    "# Regularized Least Squares"
   ]
  },
  {
   "cell_type": "markdown",
   "metadata": {},
   "source": [
    "## Ridge Regression \n",
    "\n",
    "$$\\hat{\\theta} = argmin_{\\theta}((y - X\\theta)^\\top(y - X\\theta) + \\lambda \\theta^\\top \\theta)$$\n",
    "\n",
    "\n",
    "\n"
   ]
  },
  {
   "cell_type": "markdown",
   "metadata": {},
   "source": [
    "Complete the following functions for ridge rigression using gradient descent (without sklearn)  \n",
    "\n",
    "- You can reuse the functions you have written in last week\n",
    "- Also you need to change gradient and cost accordingly\n",
    "\n",
    "Hint: If you use numpy for gradient calculation for theta, you may have to flatten the numpy array"
   ]
  },
  {
   "cell_type": "code",
   "execution_count": 711,
   "metadata": {},
   "outputs": [],
   "source": [
    "def computeCost(X, y, theta,lamda):\n",
    "    \"\"\"\n",
    "    Compute cost for linear regression. Computes the cost of using theta as the\n",
    "    parameter for linear regression to fit the data points in X and y.\n",
    "    \n",
    "    Parameters\n",
    "    ----------\n",
    "    X : with n features\n",
    "    \n",
    "    y : with (len(X),1)\n",
    "    theta : array_like -> The parameters for the regression function. This is a vector of \n",
    "        shape (n+1, 1).\n",
    "    \n",
    "    Returns\n",
    "    -------\n",
    "    J : float -> The value of the regression cost function.\n",
    "    \n",
    "    \"\"\"\n",
    "    # You need to return the following variables correctly\n",
    "    m = len(y) \n",
    "    \n",
    "    #Vectorized implementation\n",
    "    h = X @ theta\n",
    "    J_reg = (lamda / (2*m)) * np.sum(np.square(theta))\n",
    "    J = float((1./(2*m)) * (h - y).T @ (h - y)) + J_reg;\n",
    "    \n",
    "    return J"
   ]
  },
  {
   "cell_type": "code",
   "execution_count": 712,
   "metadata": {},
   "outputs": [],
   "source": [
    "def gradientDescent(X,y,theta,alpha,lamda,max_iters,precision):\n",
    "    \"\"\"\n",
    "    Performs gradient descent to learn `theta`. Updates theta by taking `num_iters`\n",
    "    gradient steps with learning rate `alpha`.\n",
    "    \n",
    "    Parameters\n",
    "    ----------\n",
    "    X : with n degree polynomial features \n",
    "    \n",
    "    y : array with shape of (len(X), 1)\n",
    "    \n",
    "    theta : array with shape of (n+1,1)\n",
    "    \n",
    "    alpha : float value, called as \"learning rate\"\n",
    "    \n",
    "    max_iters: maximum no of iteration\n",
    "    \n",
    "    Returns\n",
    "    -------\n",
    "    theta : array wih shape of (n,1),The learned linear regression parameters\n",
    "    \n",
    "    J_history : A python list for the values of the cost function after every iteration. This is to check for convergence\n",
    "    \n",
    "    \n",
    "    Hint: \n",
    "    ------------\n",
    "    1. Peform a single gradient step on the parameter vector theta.\n",
    "    2. Loop over the number of iterations to update step by step.\n",
    "    \"\"\"\n",
    "    # Initialize some useful values\n",
    "    m = np.size(y)\n",
    "    J_history = np.zeros(max_iters)\n",
    "    \n",
    "    for i in range(max_iters):\n",
    "        #Cost and intermediate values for each iteration\n",
    "        J_history[i] = computeCost(X,y,theta,lamda)\n",
    "        #Grad function in vectorized form\n",
    "        h = np.dot(X,theta)\n",
    "        theta = theta - alpha*(1/m)*(np.dot(X.T,(h-y))+lamda*theta)\n",
    "  \n",
    "    return theta,J_history"
   ]
  },
  {
   "cell_type": "markdown",
   "metadata": {},
   "source": [
    "Load \"dataWeek4Train.npz\" for training the model and \"dataWeek4Test.npz\" for validating ridge rigression\n",
    "\n",
    "Note: use np.load()"
   ]
  },
  {
   "cell_type": "code",
   "execution_count": 727,
   "metadata": {},
   "outputs": [],
   "source": [
    "import numpy as np\n",
    "from matplotlib import pyplot as plt\n",
    "data = np.load(\"dataWeek4Train.npz\")\n",
    "data_test = np.load(\"dataWeek4Test.npz\")"
   ]
  },
  {
   "cell_type": "markdown",
   "metadata": {},
   "source": [
    "Using functions written above try to fit the data with polynomial of degree 3 and \n",
    " \n",
    "- plot the fit on train data, for $\\lambda$ = [0,100,10000] \n",
    "\n",
    "- take learning rate (here it is alpha) 0.0001, \n",
    "- max_iters as 1000 (you can change if you wish)\n",
    "\n",
    "- Write comment how the fit changes as lambda and what is the reason?"
   ]
  },
  {
   "cell_type": "code",
   "execution_count": 732,
   "metadata": {
    "tags": []
   },
   "outputs": [],
   "source": [
    "# Write you code Here\n",
    "X = data['X_train']\n",
    "y = data['y_train']\n",
    "X = X[:,np.newaxis]\n",
    "y = y[:,np.newaxis]\n",
    "X_appended = np.concatenate((np.ones((len(X),1)),X),axis=1)"
   ]
  },
  {
   "cell_type": "code",
   "execution_count": 733,
   "metadata": {},
   "outputs": [],
   "source": [
    "# initialize fitting parameters with zeros\n",
    "theta = np.random.normal(size=(4,1))\n",
    "precision = 0.00001\n",
    "alpha = 0.0001\n",
    "lamda1 = 0\n",
    "lamda2 = 100\n",
    "lamda3 = 10000\n",
    "max_iters = 1000\n",
    "\n",
    "poly = PolynomialFeatures(degree=3, include_bias=False)\n",
    "X_train_poly = poly.fit_transform(X_train)\n",
    "X_appended = np.concatenate((np.ones((len(X_train_poly),1)),X_train_poly),axis=1)\n",
    "theta1, J1 = gradientDescent(X_appended,y,theta,alpha,lamda1,max_iters,precision)\n",
    "theta2, J2 = gradientDescent(X_appended,y,theta,alpha,lamda2,max_iters,precision)\n",
    "theta3, J3 = gradientDescent(X_appended,y,theta,alpha,lamda3,max_iters,precision)"
   ]
  },
  {
   "cell_type": "markdown",
   "metadata": {},
   "source": []
  },
  {
   "cell_type": "code",
   "execution_count": 735,
   "metadata": {},
   "outputs": [
    {
     "data": {
      "text/plain": [
       "Text(0.5, 1.0, 'Lambda = 0')"
      ]
     },
     "execution_count": 735,
     "metadata": {},
     "output_type": "execute_result"
    },
    {
     "data": {
      "image/png": "[encoded data removed]",
      "text/plain": [
       "<Figure size 432x288 with 1 Axes>"
      ]
     },
     "metadata": {
      "needs_background": "light"
     },
     "output_type": "display_data"
    }
   ],
   "source": [
    "### Fit 1\n",
    "pred1 = np.dot(X_appended,theta1)\n",
    "pred = pred1[:,0]\n",
    "X1 = X[:,0]\n",
    "index = np.argsort(X1)\n",
    "X1 = X1[index]\n",
    "pred1 = pred1[index]\n",
    "plt.plot(X1,pred1)\n",
    "plt.scatter(X,y)\n",
    "plt.title(\"Lambda = 0\")"
   ]
  },
  {
   "cell_type": "code",
   "execution_count": 736,
   "metadata": {},
   "outputs": [
    {
     "data": {
      "text/plain": [
       "Text(0.5, 1.0, 'Lambda = 100')"
      ]
     },
     "execution_count": 736,
     "metadata": {},
     "output_type": "execute_result"
    },
    {
     "data": {
      "image/png": "[encoded data removed]",
      "text/plain": [
       "<Figure size 432x288 with 1 Axes>"
      ]
     },
     "metadata": {
      "needs_background": "light"
     },
     "output_type": "display_data"
    }
   ],
   "source": [
    "### Fit 2\n",
    "pred2 = np.dot(X_appended,theta2)\n",
    "pred2 = pred2[:,0]\n",
    "X2 = X[:,0]\n",
    "index = np.argsort(X2)\n",
    "X2 = X2[index]\n",
    "pred2 = pred2[index]\n",
    "plt.plot(X2,pred2)\n",
    "plt.scatter(X,y)\n",
    "plt.title(\"Lambda = 100\")"
   ]
  },
  {
   "cell_type": "code",
   "execution_count": 737,
   "metadata": {},
   "outputs": [
    {
     "data": {
      "text/plain": [
       "Text(0.5, 1.0, 'Lambda = 10000')"
      ]
     },
     "execution_count": 737,
     "metadata": {},
     "output_type": "execute_result"
    },
    {
     "data": {
      "image/png": "[encoded data removed]",
      "text/plain": [
       "<Figure size 432x288 with 1 Axes>"
      ]
     },
     "metadata": {
      "needs_background": "light"
     },
     "output_type": "display_data"
    }
   ],
   "source": [
    "### Fit 3\n",
    "pred3 = np.dot(X_appended,theta3)\n",
    "pred3 = pred3[:,0]\n",
    "X3 = X[:,0]\n",
    "index = np.argsort(X3)\n",
    "X3 = X3[index]\n",
    "pred3 = pred3[index]\n",
    "plt.plot(X3,pred3)\n",
    "plt.scatter(X,y)\n",
    "plt.title(\"Lambda = 10000\")"
   ]
  },
  {
   "cell_type": "markdown",
   "metadata": {},
   "source": [
    "As lambda increases, the data is fit less as the model's focus shifts to having low theta values"
   ]
  },
  {
   "cell_type": "markdown",
   "metadata": {},
   "source": [
    "##  Linear Regression (Recap)\n"
   ]
  },
  {
   "cell_type": "markdown",
   "metadata": {},
   "source": [
    "Write a generic function decribed in the following cell which takes in data, regression type - lasso,ridge and usual linear , degree of the polynomial and then the alpha values (which are regularization parameters -lambda $\\lambda$ , in sklearn they are named as alpha so its just a notaitonal difference).\n",
    "\n",
    "\n",
    "\n",
    "Hint: Use PolynomialFeatures from sklearn and set bias to Flase"
   ]
  },
  {
   "cell_type": "markdown",
   "metadata": {},
   "source": [
    "Use 9 degree polynomial features to fit the data using Linear Rigression. Comment on the fit of the model (Overfit, underfit, perfect fit) and also plot prediction on training data along with ground truth"
   ]
  },
  {
   "cell_type": "code",
   "execution_count": 945,
   "metadata": {},
   "outputs": [],
   "source": [
    "''' Import neccessay packages '''\n",
    "\n",
    "def regression(X,Y,reg_type,degree,alpha):\n",
    "    ''' \n",
    "    Write a function which takes data X,Y\n",
    "    Type of regression - usual linear , ridge , lasso\n",
    "    Degree of polynomial features - here it is 10\n",
    "    Regularization parameter alpha \n",
    "    Return predicted output Y hat, Mean square error , regression object\n",
    "    '''\n",
    "    X = X[:,np.newaxis]\n",
    "    Y = Y[:,np.newaxis]\n",
    "    \n",
    "    poly = PolynomialFeatures(degree=degree,include_bias=False)\n",
    "    X_poly = poly.fit_transform(X)\n",
    "    if reg_type == \"ridge\":\n",
    "        reg = linear_model.Ridge(alpha=alpha,max_iter=10**6)\n",
    "    elif reg_type == \"linear\":\n",
    "        reg = linear_model.LinearRegression()\n",
    "    elif reg_type == \"lasso\":\n",
    "        reg = linear_model.Lasso(alpha=alpha,max_iter=10**6)\n",
    "    \n",
    "    reg.fit(X_poly,Y)\n",
    "    y_hat = reg.predict(X_poly)\n",
    "    mse = mean_squared_error(Y,y_hat)\n",
    "    return y_hat, mse,reg"
   ]
  },
  {
   "cell_type": "code",
   "execution_count": 968,
   "metadata": {},
   "outputs": [],
   "source": [
    "# Plotting and calling the function\n",
    "X = data['X_train']\n",
    "Y = data['y_train']\n",
    "#X = X[:,np.newaxis]\n",
    "#y = y[:,np.newaxis]\n",
    "index = np.argsort(X)\n",
    "X = X[index]\n",
    "Y = Y[index]\n",
    "#linear_model.Ridge(alpha=alpha,max_iter=1000).fit(X_poly,Y)\n",
    "#Y1, mse1, reg1 = regression(X,y,\"linear\",9,0.1) \n",
    "y1,mse1,_ = regression(X,Y,\"linear\",9,0.1)\n",
    "y2,mse2,_ = regression(X,Y,\"ridge\",9,0.1)\n",
    "y3,mse3,_ = regression(X,Y,\"lasso\",9,0.1)"
   ]
  },
  {
   "cell_type": "code",
   "execution_count": 870,
   "metadata": {},
   "outputs": [
    {
     "name": "stdout",
     "output_type": "stream",
     "text": [
      "MSE error: 1.6365450586971017e-18\n"
     ]
    },
    {
     "data": {
      "image/png": "[encoded data removed]",
      "text/plain": [
       "<Figure size 432x288 with 1 Axes>"
      ]
     },
     "metadata": {
      "needs_background": "light"
     },
     "output_type": "display_data"
    }
   ],
   "source": [
    "plt.plot(X,y1,'r')\n",
    "plt.scatter(X,Y)\n",
    "plt.title(\"Linear\")\n",
    "print(\"MSE error:\",mse1)"
   ]
  },
  {
   "cell_type": "code",
   "execution_count": 871,
   "metadata": {},
   "outputs": [
    {
     "name": "stdout",
     "output_type": "stream",
     "text": [
      "MSE error: 0.0030610489330153215\n"
     ]
    },
    {
     "data": {
      "image/png": "[encoded data removed]",
      "text/plain": [
       "<Figure size 432x288 with 1 Axes>"
      ]
     },
     "metadata": {
      "needs_background": "light"
     },
     "output_type": "display_data"
    }
   ],
   "source": [
    "plt.plot(X,y2,'green')\n",
    "plt.scatter(X,Y)\n",
    "plt.title(\"Ridge\")\n",
    "print(\"MSE error:\",mse2)"
   ]
  },
  {
   "cell_type": "code",
   "execution_count": 873,
   "metadata": {},
   "outputs": [
    {
     "name": "stdout",
     "output_type": "stream",
     "text": [
      "MSE error: 1.2275938431801827\n"
     ]
    },
    {
     "data": {
      "image/png": "[encoded data removed]",
      "text/plain": [
       "<Figure size 432x288 with 1 Axes>"
      ]
     },
     "metadata": {
      "needs_background": "light"
     },
     "output_type": "display_data"
    }
   ],
   "source": [
    "plt.plot(X,y3,'purple')\n",
    "plt.scatter(X,Y)\n",
    "plt.title(\"Lasso\")\n",
    "print(\"MSE error:\",mse3)"
   ]
  },
  {
   "cell_type": "markdown",
   "metadata": {},
   "source": [
    "## Ridge Rigression and Lasso for polynomial fitting with degree 9\n",
    "In previous you observed that how the model has fit the training data, now try the same thing using regularization both Ridge and Lasso. Use the generic function that you wrote in previous cell.\n",
    "\n",
    " - Now use polynomial regression of order 9 along with Ridge regression and Lasso regression on \"dataWeek4Train.npz\" for $\\lambda= [0, 1, 10^5, 10^{10}]$ and plot the true vs predicted values for each $\\lambda$ (Note here that in sklearn lambda is alpha)\n",
    "\n",
    "- Plot the prediction on training data along with ground truth for various values of $\\lambda$ for both ridge and lasso. And also print the coefficients of model for each $\\lambda$\n",
    "\n",
    "- Also plot trainning error vs $\\lambda$\n",
    "\n",
    "Note : Here you can use ridge Rigression from sklearn and also set bias to False in polynomial features  \n",
    "- You can use library to generate polynomial features"
   ]
  },
  {
   "cell_type": "markdown",
   "metadata": {},
   "source": [
    "\n",
    "### Lasso Regression\n",
    "\n",
    "$$\\hat{\\theta} = argmin_{\\theta}(\\frac{1}{2} \\sum_{i=1}^{N} (y_i-\\theta_0-\\sum_{j=1}^p x_{ij}\\theta_j)^2 + \\lambda \\sum_{j=1}^{p}|\\theta_j|)$$"
   ]
  },
  {
   "cell_type": "code",
   "execution_count": 977,
   "metadata": {
    "tags": []
   },
   "outputs": [
    {
     "data": {
      "image/png": "[encoded data removed]",
      "text/plain": [
       "<Figure size 432x288 with 1 Axes>"
      ]
     },
     "metadata": {
      "needs_background": "light"
     },
     "output_type": "display_data"
    },
    {
     "data": {
      "image/png": "[encoded data removed]",
      "text/plain": [
       "<Figure size 432x288 with 1 Axes>"
      ]
     },
     "metadata": {
      "needs_background": "light"
     },
     "output_type": "display_data"
    },
    {
     "data": {
      "image/png": "[encoded data removed]",
      "text/plain": [
       "<Figure size 432x288 with 1 Axes>"
      ]
     },
     "metadata": {
      "needs_background": "light"
     },
     "output_type": "display_data"
    },
    {
     "data": {
      "image/png": "[encoded data removed]",
      "text/plain": [
       "<Figure size 432x288 with 1 Axes>"
      ]
     },
     "metadata": {
      "needs_background": "light"
     },
     "output_type": "display_data"
    }
   ],
   "source": [
    "# Write your code here, plot the prediction on the train data, and print the coefficients learned for ridge and lasso\n",
    "# You can combine both Ridge and Lasso, But for Train error vs Lambda, plot them seperately for lasso and ridge\n",
    "lamdas = [0,1,10**5,10**10]\n",
    "mse_r = []\n",
    "mse_l = []\n",
    "for lamda in lamdas:\n",
    "    y_ridge, mse_ridge,_ = regression(X,Y,\"ridge\", 9, lamda)\n",
    "    y_lasso,mse_lasso,_ = regression(X,Y,\"lasso\", 9, lamda)\n",
    "    mse_r.append(mse_ridge)\n",
    "    mse_l.append(mse_lasso)\n",
    "    plt.plot(X,y_ridge,'red')\n",
    "    plt.plot(X,y_lasso,'green')\n",
    "    plt.scatter(X,Y)\n",
    "    plt.legend(['ridge','lasso','GT'])\n",
    "    plt.title(r'$\\lambda$='+str(lamda))\n",
    "    plt.show()"
   ]
  },
  {
   "cell_type": "code",
   "execution_count": 978,
   "metadata": {},
   "outputs": [
    {
     "data": {
      "text/plain": [
       "Text(0, 0.5, 'MSE')"
      ]
     },
     "execution_count": 978,
     "metadata": {},
     "output_type": "execute_result"
    },
    {
     "data": {
      "image/png": "[encoded data removed]",
      "text/plain": [
       "<Figure size 432x288 with 1 Axes>"
      ]
     },
     "metadata": {
      "needs_background": "light"
     },
     "output_type": "display_data"
    }
   ],
   "source": [
    "plt.plot(mse_r)\n",
    "plt.plot(mse_l)\n",
    "plt.legend(['ridge','lasso'])\n",
    "plt.title(\"Train error as a fn of lamda\")\n",
    "plt.legend(['ridge','lasso'])\n",
    "plt.xlabel(\"log(lamda)\")\n",
    "plt.ylabel(\"MSE\")"
   ]
  },
  {
   "cell_type": "markdown",
   "metadata": {},
   "source": [
    "## Ridge Rigression and Lasso for polynomial fitting to predict on validation set\n",
    "\n",
    "Now use \"dataWeek4Test.npz\" to validate the model for same values of $\\lambda$s ($\\lambda= [0, 1, 10^5, 10^{10}]$) used in previous case. And plot $\\lambda$ vs validation error.  \n",
    "- Note : No need to plot the prediction on validation set since the validation points are very few\n",
    "- Print the learned coefficients for Lasso and Ridge rigression and write your observations\n",
    "\n",
    "Hint: Think of the property of Lasso Rigression (for writing observations)"
   ]
  },
  {
   "cell_type": "code",
   "execution_count": 988,
   "metadata": {},
   "outputs": [
    {
     "name": "stdout",
     "output_type": "stream",
     "text": [
      "Coefficients...............\n",
      "\n",
      "\n",
      "Lambda= 0\n",
      "Ridge coeff: [ 1.55320897e+00  1.60951296e-01  4.42699248e-01  4.86392978e-01\n",
      " -4.54851017e-01 -4.55958884e-02  4.68990962e-02  9.10975446e-04\n",
      " -9.62093998e-04]\n",
      "Lasso coeff: [-1.14550678e+00  1.38499965e+00  1.05999422e-01 -1.81842662e-02\n",
      " -4.77370916e-04  1.79761406e-04 -2.83996252e-05  2.57116824e-06\n",
      " -3.25364936e-07]\n",
      "Coefficients...............\n",
      "\n",
      "\n",
      "Lambda= 1\n",
      "Ridge coeff: [ 7.44108591e-01  1.59227322e-01  1.92019640e-01  4.81193000e-01\n",
      " -2.78414053e-01 -4.49907750e-02  2.98146712e-02  8.98199709e-04\n",
      " -6.17811066e-04]\n",
      "Lasso coeff: [-0.00000000e+00  9.45360808e-01 -2.85468333e-02  1.97430837e-02\n",
      "  1.77747810e-03 -3.71187319e-04 -1.30398605e-05 -2.44338732e-06\n",
      " -2.90013643e-07]\n",
      "Coefficients...............\n",
      "\n",
      "\n",
      "Lambda= 100000\n",
      "Ridge coeff: [-7.44481536e-05  2.43355499e-04 -3.10644737e-04  1.58106688e-03\n",
      " -8.54353735e-04  9.95073541e-03  6.17908870e-05 -2.56149945e-04\n",
      " -9.43202860e-07]\n",
      "Lasso coeff: [-0.00000000e+00  0.00000000e+00 -0.00000000e+00  0.00000000e+00\n",
      "  0.00000000e+00  0.00000000e+00  0.00000000e+00  1.93067649e-05\n",
      "  1.03278897e-07]\n",
      "Coefficients...............\n",
      "\n",
      "\n",
      "Lambda= 100\n",
      "Ridge coeff: [ 0.00392467  0.07733475 -0.03285702  0.23418288 -0.10358635 -0.0162429\n",
      "  0.01255117  0.00029122 -0.00026791]\n",
      "Lasso coeff: [-0.00000000e+00  0.00000000e+00 -0.00000000e+00  3.33571566e-02\n",
      " -0.00000000e+00  1.69647329e-03 -9.76185566e-08 -5.22023393e-05\n",
      "  1.09925199e-07]\n"
     ]
    },
    {
     "data": {
      "image/png": "[encoded data removed]",
      "text/plain": [
       "<Figure size 432x288 with 1 Axes>"
      ]
     },
     "metadata": {
      "needs_background": "light"
     },
     "output_type": "display_data"
    },
    {
     "data": {
      "image/png": "[encoded data removed]",
      "text/plain": [
       "<Figure size 432x288 with 1 Axes>"
      ]
     },
     "metadata": {
      "needs_background": "light"
     },
     "output_type": "display_data"
    }
   ],
   "source": [
    "#Write your code here\n",
    "x_test = data_test['X_test']\n",
    "y_test = data_test['y_test']\n",
    "\n",
    "x = X\n",
    "y = Y\n",
    "\n",
    "lambdas = [0,1,10**5,10*10]\n",
    "mse_list_test_ridge = []\n",
    "mse_list_test_lasso = []\n",
    "degree = 9\n",
    "poly = PolynomialFeatures(degree)\n",
    "x_poly =poly.fit_transform(x.reshape(-1,1))\n",
    "x_poly = x_poly[:,1:]\n",
    "x_poly_test = poly.fit_transform(x_test.reshape(-1,1))\n",
    "x_poly_test = x_poly_test[:,1:]\n",
    "\n",
    "for lamda in lambdas:\n",
    "    reg_ridge = Ridge(alpha = lamda).fit(x_poly, y)\n",
    "    reg_lasso = Lasso(alpha = lamda).fit(x_poly, y)\n",
    "    y_pred_test_lasso = reg_lasso.predict(x_poly_test)\n",
    "    y_pred_train_lasso = reg_lasso.predict(x_poly)\n",
    "    y_pred_test_ridge = reg_ridge.predict(x_poly_test)\n",
    "    y_pred_train_ridge = reg_ridge.predict(x_poly)\n",
    "    mse_list_test_lasso.append(np.mean((y_test-y_pred_test_lasso)**2))\n",
    "    mse_list_test_ridge.append(np.mean((y_test-y_pred_test_ridge)**2)) \n",
    "    print(\"Coefficients...............\\n\\n\")\n",
    "    print(\"Lambda=\",lamda)\n",
    "    print(\"Ridge coeff:\",reg_ridge.coef_)\n",
    "    print(\"Lasso coeff:\",reg_lasso.coef_)\n",
    "\n",
    "plt.plot(mse_list_test_ridge)\n",
    "plt.title(\"MSE vs log(lamda) for Test error ridge regression\")\n",
    "plt.xlabel(\"log(lamda)\")\n",
    "plt.ylabel(\"MSE\")\n",
    "plt.show()\n",
    "plt.plot(mse_list_test_lasso)\n",
    "plt.title(\"MSE vs log(lamda) for Test error in lasso regression\")\n",
    "plt.xlabel(\"log(lamda)\")\n",
    "plt.ylabel(\"MSE\")\n",
    "plt.show()"
   ]
  },
  {
   "cell_type": "markdown",
   "metadata": {},
   "source": [
    "### Questions and Observations"
   ]
  },
  {
   "cell_type": "markdown",
   "metadata": {},
   "source": [
    "- What was your observation in simple linear rigression without regulaization when polynomial features of degree of 9 is used and what is the reason?\n",
    "\n",
    "Ans: MSE error on train is low and on validation is very high. This is becuase a 9th degree polynomial is too complex and overfits the data\n",
    "-  As value of lambda increases what happens to the model complexity?\n",
    "\n",
    "Ans: The model complexity decreases due to penalty imposed on the parameters \n",
    "\n",
    "- What can be infered from the mean squared error versus lambda?\n",
    "\n",
    "Ans: MSE error on training data increases with lamda as (model becomes less complex) but on test set it decreases since the model reduces bias and generalizes well to new examples (Bias-Variance tradeoff)\n",
    "\n",
    "- Statement: Regularization gives finer control over fitting the data than using just change of degree of the polynomial features (True or False) Justify (not mathematical)\n",
    "\n",
    "Ans: False (Regularization is more of an external smoothing parameter, but the degree of the polynomial fundamentally changes the way the data is fit). This is evident in the case when the model is already under fit. In such a scenario regularization cannot be used to improve the model.\n",
    "\n",
    "- Comment on the train error vs $\\lambda$ and validation error vs $\\lambda$ what are the observations?\n",
    " \n",
    "1. Train error vs lambda: Increases for both ridge and lasso\n",
    "2. Terror vs lambda: Ridge (Decreases, then increases), Lasso: (Increases, then decreases)"
   ]
  }
 ],
 "metadata": {
  "kernelspec": {
   "display_name": "Python 3",
   "language": "python",
   "name": "python3"
  },
  "language_info": {
   "codemirror_mode": {
    "name": "ipython",
    "version": 3
   },
   "file_extension": ".py",
   "mimetype": "text/x-python",
   "name": "python",
   "nbconvert_exporter": "python",
   "pygments_lexer": "ipython3",
   "version": "3.8.5"
  }
 },
 "nbformat": 4,
 "nbformat_minor": 2
}
