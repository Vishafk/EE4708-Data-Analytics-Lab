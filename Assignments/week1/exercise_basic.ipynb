{
 "cells": [
  {
   "cell_type": "markdown",
   "metadata": {},
   "source": [
    "1) Given the array split the array at the middle (if it is odd length consider next higher integer), add reverse the array.\n",
    "\n",
    "Ex:\n",
    "if input is [12,10,5,6,52,36] \n",
    "output should be [6,52,36,12,10,5]\n",
    "\n",
    "if input is  [12,10,5,6,52,36,34]\n",
    "output should be [6,52,36,34,12,10,5]"
   ]
  },
  {
   "cell_type": "code",
   "execution_count": 278,
   "metadata": {},
   "outputs": [],
   "source": [
    "import math\n",
    "# Complete this function to get the desired result\n",
    "def reverseatCenter(arr):\n",
    "    n = len(arr)\n",
    "    temp = arr.copy()\n",
    "    if int(n%2) == 0:\n",
    "        for i in range(0,int(n/2)):\n",
    "            arr[i] = temp[int(n/2)+i]\n",
    "        for i in range(int(n/2),n):\n",
    "            arr[i] = temp[i-int(n/2)]\n",
    "    \n",
    "    else:\n",
    "        for i in range(0,int((n+1)/2)):\n",
    "            arr[i] = temp[int((n+1)/2)+i-1]\n",
    "        for i in range(int((n+1)/2),n):\n",
    "            arr[i] = temp[i-int((n+1)/2)]\n",
    "    return arr"
   ]
  },
  {
   "cell_type": "code",
   "execution_count": 280,
   "metadata": {},
   "outputs": [
    {
     "name": "stdout",
     "output_type": "stream",
     "text": [
      "[6, 52, 36, 12, 10, 5]\n",
      "[6, 52, 36, 34, 12, 10, 5]\n"
     ]
    }
   ],
   "source": [
    "# Print wroking examples\n",
    "arr1 = [12,10,5,6,52,36]\n",
    "print(reverseatCenter(arr1))\n",
    "arr2 = [12,10,5,6,52,36,34]\n",
    "print(reverseatCenter(arr2))"
   ]
  },
  {
   "cell_type": "markdown",
   "metadata": {},
   "source": []
  },
  {
   "cell_type": "markdown",
   "metadata": {},
   "source": [
    "2) Given a list of numbers, return a list where all adjacent duplicate elements have been removed.\n",
    "\n",
    "Ex:\n",
    "\n",
    "2, 2, 2, 3, 2 returns 2, 3, 2."
   ]
  },
  {
   "cell_type": "code",
   "execution_count": 52,
   "metadata": {},
   "outputs": [],
   "source": [
    "# Complete the function to get the desired result\n",
    "\n",
    "def remove_adjacent(nums):\n",
    "    i = 1\n",
    "    while i < len(nums):    \n",
    "        if nums[i] == nums[i-1]:\n",
    "            nums.pop()\n",
    "            i -= 1 \n",
    "        i += 1\n",
    "    return nums"
   ]
  },
  {
   "cell_type": "code",
   "execution_count": 51,
   "metadata": {},
   "outputs": [
    {
     "name": "stdout",
     "output_type": "stream",
     "text": [
      "[2, 3, 2]\n"
     ]
    }
   ],
   "source": [
    "# Print working examples\n",
    "print(remove_adjacent([2,2,2,3,2]))"
   ]
  },
  {
   "cell_type": "markdown",
   "metadata": {},
   "source": [
    "3) given matrix of 7x7 full of ones, create a square with given side length (center same as original square(7x7)) replace ones with zeors at the edges for example,\n",
    "\n"
   ]
  },
  {
   "cell_type": "markdown",
   "metadata": {},
   "source": [
    "$$\n",
    "\\begin{align}\n",
    "A = \\begin{bmatrix}\n",
    "1 & 1 & 1 & 1 & 1 & 1 & 1\\\\\n",
    "1 & 1 & 1 & 1 & 1 & 1 & 1\\\\\n",
    "1 & 1 & 1 & 1 & 1 & 1 & 1\\\\\n",
    "1 & 1 & 1 & 1 & 1 & 1 & 1\\\\\n",
    "1 & 1 & 1 & 1 & 1 & 1 & 1\\\\\n",
    "1 & 1 & 1 & 1 & 1 & 1 & 1\\\\\n",
    "1 & 1 & 1 & 1 & 1 & 1 & 1\\\\\n",
    "\\end{bmatrix}\n",
    "\\end{align}\n",
    "$$\n",
    "After modification\n",
    "$$\n",
    "\\begin{align}\n",
    "A = \\begin{bmatrix}\n",
    "1 & 1 & 1 & 1 & 1 & 1 & 1\\\\\n",
    "1 & 1 & 1 & 1 & 1 & 1 & 1\\\\\n",
    "1 & 1 & 0 & 0 & 0 & 1 & 1\\\\\n",
    "1 & 1 & 0 & 1 & 0 & 1 & 1\\\\\n",
    "1 & 1 & 0 & 0 & 0 & 1 & 1\\\\\n",
    "1 & 1 & 1 & 1 & 1 & 1 & 1\\\\\n",
    "1 & 1 & 1 & 1 & 1 & 1 & 1\\\\\n",
    "\\end{bmatrix}\n",
    "\\end{align}\n",
    "$$"
   ]
  },
  {
   "cell_type": "code",
   "execution_count": 44,
   "metadata": {},
   "outputs": [],
   "source": [
    "import numpy as np\n",
    "# write programm to get the desired result\n",
    "def create_square(size):\n",
    "    A = np.ones((7,7))\n",
    "    if size == 7:\n",
    "        A = np.zeros((7,7))\n",
    "    elif size == 5:\n",
    "        A = np.zeros((7,7))\n",
    "        A[0,:] = 1\n",
    "        A[6,:] = 1\n",
    "        A[:,6] = 1\n",
    "        A[:,0] = 1\n",
    "    else:\n",
    "        A[2:5,2:5] = 0\n",
    "        \n",
    "    A[3,3] = 1\n",
    "    \n",
    "    return A"
   ]
  },
  {
   "cell_type": "code",
   "execution_count": 48,
   "metadata": {},
   "outputs": [
    {
     "name": "stdout",
     "output_type": "stream",
     "text": [
      "[[1. 1. 1. 1. 1. 1. 1.]\n",
      " [1. 1. 1. 1. 1. 1. 1.]\n",
      " [1. 1. 0. 0. 0. 1. 1.]\n",
      " [1. 1. 0. 1. 0. 1. 1.]\n",
      " [1. 1. 0. 0. 0. 1. 1.]\n",
      " [1. 1. 1. 1. 1. 1. 1.]\n",
      " [1. 1. 1. 1. 1. 1. 1.]]\n",
      "\n",
      "\n",
      "[[1. 1. 1. 1. 1. 1. 1.]\n",
      " [1. 0. 0. 0. 0. 0. 1.]\n",
      " [1. 0. 0. 0. 0. 0. 1.]\n",
      " [1. 0. 0. 1. 0. 0. 1.]\n",
      " [1. 0. 0. 0. 0. 0. 1.]\n",
      " [1. 0. 0. 0. 0. 0. 1.]\n",
      " [1. 1. 1. 1. 1. 1. 1.]]\n",
      "\n",
      "\n",
      "[[0. 0. 0. 0. 0. 0. 0.]\n",
      " [0. 0. 0. 0. 0. 0. 0.]\n",
      " [0. 0. 0. 0. 0. 0. 0.]\n",
      " [0. 0. 0. 1. 0. 0. 0.]\n",
      " [0. 0. 0. 0. 0. 0. 0.]\n",
      " [0. 0. 0. 0. 0. 0. 0.]\n",
      " [0. 0. 0. 0. 0. 0. 0.]]\n"
     ]
    }
   ],
   "source": [
    "#Print working examples\n",
    "print(create_square(3))\n",
    "print(\"\\n\")\n",
    "print(create_square(5))\n",
    "print(\"\\n\")\n",
    "print(create_square(7))"
   ]
  },
  {
   "cell_type": "markdown",
   "metadata": {},
   "source": [
    "4) Paragraph present in data.txt is encoded such that each alphabet in word is incremented to next ascii value. Decode the paragraph present in the data_encoded.txt (Hint: decrease the ascii value of each character in the word)\n"
   ]
  },
  {
   "cell_type": "code",
   "execution_count": 332,
   "metadata": {
    "tags": []
   },
   "outputs": [
    {
     "name": "stdout",
     "output_type": "stream",
     "text": [
      "data analysis is a process of inspecting, cleansing, transforming and modeling data with the goal of discovering useful information, informing conclusions and supporting decision-making. data analysis has multiple facets and approaches, encompassing diverse techniques under a variety of names, and is used in different business, science, and social science domains. in today's business world, data analysis plays a role in making decisions more scientific and helping businesses operate more effectively.\n"
     ]
    }
   ],
   "source": [
    "with open (\"data_encoded.txt\", \"r\") as myfile:\n",
    "    data=myfile.read()\n",
    "    data = list(data) #Making strings mutable\n",
    "    for i in range(len(data)):\n",
    "        if data[i] != ' ':\n",
    "            data[i] = chr(ord(str(data[i]))-1)\n",
    "    ''.join(data)\n",
    "    \n",
    "def convert(s): \n",
    "  \n",
    "    # initialization of string to \"\" \n",
    "    new = \"\" \n",
    "  \n",
    "    # traverse in the string  \n",
    "    for x in s: \n",
    "        new += x  \n",
    "  \n",
    "    # return string  \n",
    "    return new \n",
    "\n",
    "print(convert(data)) "
   ]
  }
 ],
 "metadata": {
  "kernelspec": {
   "display_name": "Python 3",
   "language": "python",
   "name": "python3"
  },
  "language_info": {
   "codemirror_mode": {
    "name": "ipython",
    "version": 3
   },
   "file_extension": ".py",
   "mimetype": "text/x-python",
   "name": "python",
   "nbconvert_exporter": "python",
   "pygments_lexer": "ipython3",
   "version": "3.8.2"
  }
 },
 "nbformat": 4,
 "nbformat_minor": 2
}
